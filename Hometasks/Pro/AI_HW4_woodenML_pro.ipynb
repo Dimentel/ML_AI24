{
  "cells": [
    {
      "cell_type": "markdown",
      "metadata": {
        "id": "view-in-github",
        "colab_type": "text"
      },
      "source": [
        "<a href=\"https://colab.research.google.com/github/Murcha1990/ML_AI24/blob/main/Hometasks/Pro/AI_HW4_woodenML_pro.ipynb\" target=\"_parent\"><img src=\"https://colab.research.google.com/assets/colab-badge.svg\" alt=\"Open In Colab\"/></a>"
      ]
    },
    {
      "cell_type": "markdown",
      "metadata": {
        "id": "cRsFk7W25FJr"
      },
      "source": [
        "# **Домашнее задание 4 (pro): древесные алгоритмы**"
      ]
    },
    {
      "cell_type": "markdown",
      "metadata": {
        "id": "W7_vr1PS5FJv"
      },
      "source": [
        "### **Постановка задач**\n",
        "\n",
        "### **Домашнее задание состоит из двух подзадач:**\n",
        "\n",
        "**1. В  разделе 1 ваша задача:**\n",
        "-  реализовать свое решающее дерево\n",
        "- сравнить его со стандартной имплементацией из sklearn\n",
        "\n",
        "Функции и классы дерева вы должны оформить в модуль `hw5code.py`.\n",
        "\n",
        "**2. В разделе два ваша задача:** решить задачу бинарной классификации при помощи написанного Вами дерева, а также леса из sklearn, а после интерпретировать лучшие модели. Чуть точнее\n",
        "\n",
        "- Извлечь данные из базы данных;\n",
        "- Предобработать датасет;\n",
        "- Обучить собственный класс DT, а также RF из `sklearn` в как базовом варианте (гиперпараметры по умолчанию), так и с подбором гиперпараметров;\n",
        "- Интерпретировать алгоритмы при помощи LIME или SHAP.\n",
        "\n",
        "\n",
        "### **Оценивание:**\n",
        "\n",
        "- Как всегда оцениваются как код, так и ответы на вопросы. Если нет одного и/или другого, то часть баллов за соответствующее задание без колебаний снимается.\n",
        "- Брать код из открытых источников позволительно. Следование культуре цитирования **обязательно.**\n",
        "- Задание выполняется самостоятельно. «Похожие» решения считаются плагиатом и все задействованные студенты (в том числе те, у кого списали) не могут получить за него больше 0 баллов.\n",
        "- Неэффективная реализация кода может негативно отразиться на оценке.\n",
        "\n",
        "### **Формат сдачи:**\n",
        "Задания сдаются через  anytask. Посылка должна содержать:\n",
        "* Ноутбук homework-practice-05-trees-Username.ipynb\n",
        "* Модуль hw5code.py\n",
        "\n",
        "\n",
        "### **Баллы:**\n",
        "\n",
        "Суммарно за задание можно получить 10 основных баллов и 1 бонусный балло.\n",
        "\n",
        "Оценка за ДЗ = min{ваш балл, 10}\n",
        "\n",
        "Мягкий дедлайн: 25 января 23:59\n",
        "\n",
        "**Продуктивной и интересной вам работы!**\n"
      ]
    },
    {
      "cell_type": "code",
      "source": [
        "!pip install optuna\n",
        "!pip install lime\n",
        "!pip install shap\n",
        "!pip install psycopg2-binary"
      ],
      "metadata": {
        "id": "9rqp4XUwSb9I"
      },
      "execution_count": null,
      "outputs": []
    },
    {
      "cell_type": "code",
      "execution_count": null,
      "metadata": {
        "id": "hvi_zUIt5FJw"
      },
      "outputs": [],
      "source": [
        "import numpy as np\n",
        "import matplotlib.pyplot as plt\n",
        "from sklearn.tree import DecisionTreeClassifier\n",
        "from matplotlib.colors import Colormap, ListedColormap\n",
        "import pandas as pd\n",
        "from sklearn.model_selection import train_test_split\n",
        "import seaborn as sns\n",
        "sns.set(style='whitegrid')\n",
        "\n",
        "import psycopg2\n",
        "import psycopg2.extras\n",
        "\n",
        "import shap\n",
        "import lime\n",
        "import lime.lime_tabular\n",
        "\n",
        "import optuna\n",
        "\n",
        "import pickle\n",
        "\n",
        "import warnings\n",
        "warnings.filterwarnings('ignore')"
      ]
    },
    {
      "cell_type": "markdown",
      "metadata": {
        "id": "TT6Dt8av5FJ0"
      },
      "source": [
        "# **1. Решающие деревья своими руками (6 баллов)**"
      ]
    },
    {
      "cell_type": "markdown",
      "metadata": {
        "id": "tAMveyqq5FJ0"
      },
      "source": [
        "В этой части вам нужно реализовать свой класс для обучения решающего дерева в задаче бинарной классификации с возможностью обработки вещественных и категориальных признаков.\n",
        "\n",
        "Всего за часть вы можете получить 6 основных баллов и 1 бонусный."
      ]
    },
    {
      "cell_type": "markdown",
      "metadata": {
        "id": "wIhluT7-5FJ0"
      },
      "source": [
        "### **Задание 1. (1 балл)**\n",
        "\n",
        "Реализуйте функцию find_best_split из модуля hw5code.py"
      ]
    },
    {
      "cell_type": "code",
      "source": [
        "# Заполните код в модуле"
      ],
      "metadata": {
        "id": "YU4om2GuUdrK"
      },
      "execution_count": null,
      "outputs": []
    },
    {
      "cell_type": "markdown",
      "metadata": {
        "id": "-ypIuGqX5FJ1"
      },
      "source": [
        "### **Задание 2. (0.25 балла)**\n",
        "\n",
        "Загрузите таблицу [students.csv](https://github.com/AnastasiyaMax/MLDS_ml_course_fall21/blob/main/hw/hw5_trees/students.csv). Это немного преобразованный датасет [User Knowledge](https://archive.ics.uci.edu/ml/datasets/User+Knowledge+Modeling).\n",
        "\n",
        "В наборе данных:\n",
        "- признаки объекта записаны в первых пяти столбцах;\n",
        "- в последнем записана целевая переменная (класс: 0 или 1).\n",
        "\n",
        "По этим данным, используя функцию из задания 1, постройте:\n",
        "- пять кривых \"порог — значение критерия Джини\" для всех пяти признаков;\n",
        "- scatter-графики \"значение признака — класс\" для всех пяти признаков;"
      ]
    },
    {
      "cell_type": "code",
      "execution_count": null,
      "metadata": {
        "id": "IonknjIw5FJ1"
      },
      "outputs": [],
      "source": [
        "# Ваш код здесь"
      ]
    },
    {
      "cell_type": "markdown",
      "metadata": {
        "id": "oZZI1mC05FJ1"
      },
      "source": [
        "### **Задание 3. (0.6 балла)**\n",
        "\n",
        "Проанализируйтте построенные кривые. Ответьте на поставленные вопросы:\n",
        "- По какому признаку нужно производить деление выборки на два поддерева? (0.15 балла)\n",
        "- Согласуется ли этот результат с визуальной оценкой scatter-графиков? (0.15 балла)\n",
        "- Как бы охарактеризовали вид кривой для \"хороших\" признаков, по которым выборка делится почти идеально? (0.15 балла)\n",
        "- Чем отличаются кривые для признаков, по которым деление практически невозможно? (0.15 балла)"
      ]
    },
    {
      "cell_type": "markdown",
      "metadata": {
        "id": "KlzC3FzG5FJ1"
      },
      "source": [
        "**Ответ:**"
      ]
    },
    {
      "cell_type": "markdown",
      "metadata": {
        "id": "yeC7XP5b5FJ1"
      },
      "source": [
        "### **Задание 4. (1.15 балла)**\n",
        "\n",
        "В некоторых случаях необходимо анализировать код исполненного класса на предмет оптимальности и ошибок. Потренируйтесь в этом!\n",
        "\n",
        "- Разберитесь с уже написанным кодом в классе DecisionTree модуля hw5code.py.\n",
        "- Найдите ошибки в реализации метода \\_fit_node.\n",
        "- Напишите функцию \\_predict_node.\n",
        "\n",
        "**Примечание 1:**\n",
        "\n",
        "Построение дерева осуществляется согласно базовому жадному алгоритму, предложенному в [лекции](https://github.com/esokolov/ml-course-hse/blob/master/2020-fall/lecture-notes/lecture07-trees.pdf) в разделе «Построение дерева».\n",
        "- Для категориальных признаков выполняется преобразование, описанное в лекции в разделе «Учет категориальных признаков».\n",
        "\n",
        "**Примечание 2:**\n",
        "\n",
        "- Выбор лучшего разбиения необходимо производить по критерию Джини.\n",
        "- Критерий останова: все объекты в листе относятся к одному классу или ни по одному признаку нельзя разбить выборку, чтобы Джини упал\n",
        "- Ответ в листе: наиболее часто встречающийся класс в листе.\n"
      ]
    },
    {
      "cell_type": "markdown",
      "metadata": {
        "id": "Hyg0sM4q5FJ1"
      },
      "source": [
        "### **Задание 5. (0.5 балла)**\n",
        "\n",
        "Протестируйте свое решающее дерево на датасете [mushrooms](https://archive.ics.uci.edu/ml/datasets/Mushroom). Для этого:\n",
        "\n",
        "- Скачайте таблицу agaricus-lepiota.data (из [Data Folder](https://archive.ics.uci.edu/ml/machine-learning-databases/mushroom/))\n",
        "- Прочитайте данные с помощью pandas\n",
        "- Примените к каждому столбцу LabelEncoder (из sklearn), чтобы преобразовать строковые имена категорий в натуральные числа.\n",
        "- Обучите решающее дерево на половине случайно выбранных объектов (признаки в датасете категориальные)\n",
        "- Сделайте предсказания для оставшейся половины.\n",
        "- Вычислите accuracy (так как мы используем эту метрику и в силу задачи, нам не очень важно, что будет классом 1, а что — классом 0).  \n",
        "\n",
        "\n",
        "У вас должно получиться значение accuracy, равное единице (или очень близкое к единице), и не очень глубокое дерево."
      ]
    },
    {
      "cell_type": "code",
      "execution_count": null,
      "metadata": {
        "id": "B1JEbOP_5FJ2"
      },
      "outputs": [],
      "source": [
        "# Ваш код здесь\n"
      ]
    },
    {
      "cell_type": "markdown",
      "metadata": {
        "id": "FsCuZ99m5FJ2"
      },
      "source": [
        "### **Задание 6. (бонус, 1 балл)**\n",
        "\n",
        "Реализуйте в классе DecisionTree поддержку параметров max_depth, min_samples_split и min_samples_leaf по аналогии с DecisionTreeClassifier. Постройте графики зависимости качества предсказания в зависимости от этих параметров для набора данных tic-tac-toe (см. следующее задание)."
      ]
    },
    {
      "cell_type": "markdown",
      "metadata": {
        "id": "_1Hl1_pZ5FJ2"
      },
      "source": [
        "### **Задание 7. (2 балла)**\n",
        "\n",
        "**1. Загрузите следующие наборы данных** (напомним, что pandas умеет загружать файлы по url, в нашем случае это файл \\*.data), предварительно ознакомившись с описанием признаков и целевой переменной в каждом из них (они записаны в Data Folder, в файле *.names):\n",
        "* [mushrooms](https://archive.ics.uci.edu/ml/datasets/Mushroom) (загрузили в предыдущем пункте, классы записаны в нулевом столбце),\n",
        "* [tic-tac-toe](https://archive.ics.uci.edu/ml/datasets/Tic-Tac-Toe+Endgame) (классы записаны в последнем столбце)\n",
        "* [cars](https://archive.ics.uci.edu/ml/datasets/Car+Evaluation) (классы записаны в последнем столбце, считаем что unacc, acc — это класс 0, good, vgood — класс 1)\n",
        "* [nursery](https://archive.ics.uci.edu/ml/datasets/Nursery) (классы записаны в последнем столбце, считаем, что not_recom и recommend — класс 0, very_recom, priority, spec_prior — класс 1).\n",
        "\n",
        "**2. Закодируйте категориальные признаки, использовав LabelEncoder.** С помощью cross_val_score (cv=10) оцените accuracy на каждом из этих наборов данных следующих алгоритмов:\n",
        "* DecisionTree, считающий все признаки вещественными\n",
        "* DecisionTree, считающий все признаки категориальными\n",
        "* DecisionTree, считающий все признаки вещественными + one-hot-encoding всех признаков\n",
        "* DecisionTreeClassifier из sklearn. Запишите результат в pd.DataFrame (по строкам — наборы данных, по столбцам — алгоритмы).\n",
        "\n",
        "**Рекомендации:**\n",
        "* Чтобы cross_val_score вычисляла точность, нужно передать scoring=make_scorer(accuracy_score), обе фукнции из sklearn.metrics.\n",
        "* Если вам позволяет память (а она скорее всего позволяет), указывайте параметр sparse=False в OneHotEncoder (если вы, конечно, используете его). Иначе вам придется добиваться того, чтобы ваша реализация дерева умела работать с разреженными матрицами."
      ]
    },
    {
      "cell_type": "code",
      "execution_count": null,
      "metadata": {
        "id": "kYZJkyGZ5FJ2"
      },
      "outputs": [],
      "source": [
        "# Ваш код здесьﾟ\n"
      ]
    },
    {
      "cell_type": "markdown",
      "metadata": {
        "id": "PhRoeENk5FJ2"
      },
      "source": [
        "### **Задание 8. (0.5 балла)**\n",
        "\n",
        "Проанализируйте результаты эксперимента. Ответьте на вопросы:\n",
        "- Одинаково ли для разных наборов данных ранжируются алгоритмы?\n",
        "Порассуждайте, почему так происходит.\n",
        "- Обратите внимание на значение признаков в разных наборах данных.\n",
        "Присутствует ли в результатах какая-то компонента случайности?\n",
        "- Если случайность есть, то можно ли повлиять на нее и улушить работу алгоритмов?"
      ]
    },
    {
      "cell_type": "markdown",
      "metadata": {
        "id": "fWfSVgpa5FJ2"
      },
      "source": [
        "**Ответ:**"
      ]
    },
    {
      "cell_type": "markdown",
      "source": [
        "# **2. Задача бинарной классификации реализованным деревом (4 балла)**\n",
        "\n",
        "Всего за эту часть можно получить 4 балла."
      ],
      "metadata": {
        "id": "TjGNljUAXLaE"
      }
    },
    {
      "cell_type": "markdown",
      "source": [
        "В этом разделе вам необходимо решить задачу бинарной классификации самописным деревом и лесом из sklearn, а после интерпретировать лучшие модели. А именно:\n",
        "\n",
        "- Извлечь данные из базы данных;\n",
        "- Предобработать датасет;\n",
        "- Обучить собственный класс DT и RF из `sklearn` в как базовом варианте (гиперпараметры по умолчанию), так и с подбором гиперпараметров;\n",
        "- Интерпретировать алгоритмы при помощи LIME или SHAP.\n"
      ],
      "metadata": {
        "id": "_Dgasg6EXea0"
      }
    },
    {
      "cell_type": "markdown",
      "source": [
        "### **Познакомимся с задачей: постановка**\n",
        "\n",
        "У вас есть данные о полетах, обладающие следущими характеристиками:\n",
        "- Для **каждого** клиента известна краткая информация о самом человеке, о типе билета и о рейсе, а также оценки клиента различным аспектам полета.\n",
        "- Для **некоторых** клиентов известна их удовлетворенность полетом (satisfied или neutral or dissatisfied).\n",
        "\n",
        "По данным необходимо обучить модель, предсказывающую удовлетворенность клиентов полетом. Итоговые предсказания нужно сделать для клиентов, **для которых ответ неизвестен.**\n",
        "\n",
        "### **Получение данных:**\n",
        "\n",
        "Компания держит все данные в облаке Яндекса в Postgresql. Данные разбиты на смысловые таблицы. Чтобы получить данные, вам необходимо подключиться к базе данных и добыть оттуда данные."
      ],
      "metadata": {
        "id": "zpJUszpKXtuR"
      }
    },
    {
      "cell_type": "code",
      "source": [
        "!mkdir -p ~/.postgresql && \\\n",
        "wget \"https://storage.yandexcloud.net/cloud-certs/CA.pem\" \\\n",
        "    --output-document ~/.postgresql/root.crt && \\\n",
        "chmod 0600 ~/.postgresql/root.crt"
      ],
      "metadata": {
        "id": "H_0jeg8S_mgM"
      },
      "execution_count": null,
      "outputs": []
    },
    {
      "cell_type": "markdown",
      "source": [
        "### **Задание 9. Получение данных (0.5 балла)**\n",
        "\n",
        "- Подключитесь к БД при помощи `psycopg2.connect()`\n",
        "- Напишите SQL-запрос, объединяющий 3 нужные таблицы в одну\n",
        "- Результат запроса поместите в `pd.DataFrame`. Индексом получившегося датафрейма сделайте столбец 'id'.\n",
        "\n",
        "Список столбцов таблиц добудьте самостоятельно.\n",
        "\n",
        "\n",
        "**Примечание:**\n",
        " Не забудьте закрыть соединение. Или открывайте соединение, используя менеджер контекста `with as`, который закроет его автоматически"
      ],
      "metadata": {
        "id": "L_XOtHwRX4u3"
      }
    },
    {
      "cell_type": "markdown",
      "source": [
        "##### **Параметры соединения:**\n",
        "```\n",
        "host=rc1b-70q90cunwkzx49mj.mdb.yandexcloud.net\n",
        "port=6432\n",
        "sslmode=verify-full\n",
        "dbname=db_flights\n",
        "user=mlhs_student\n",
        "password=mlhs_student\n",
        "target_session_attrs=read-write```\n",
        "```"
      ],
      "metadata": {
        "id": "mgQfdZjkX97C"
      }
    },
    {
      "cell_type": "markdown",
      "source": [
        "##### **Схема БД**\n",
        "\n",
        "<img src=\"data:image/png;base64,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\" alt=\"screens\" width=\"600\"/>"
      ],
      "metadata": {
        "id": "2sbC6WiSX-Q5"
      }
    },
    {
      "cell_type": "code",
      "source": [
        "# Ваш код здесь"
      ],
      "metadata": {
        "id": "EMEc3XBoX9SG"
      },
      "execution_count": null,
      "outputs": []
    },
    {
      "cell_type": "code",
      "source": [
        "assert df.shape == (129_549, 23)"
      ],
      "metadata": {
        "id": "dfoU7iiWXpJG"
      },
      "execution_count": null,
      "outputs": []
    },
    {
      "cell_type": "markdown",
      "source": [
        "Разобьем датасет на тренировочную и тестовую части. Тестовую часть отложим надолго -- до самого конца этого ноутбука."
      ],
      "metadata": {
        "id": "Hh4UpPPmYfno"
      }
    },
    {
      "cell_type": "code",
      "source": [
        "df_train = df[df.satisfaction != '-']\n",
        "\n",
        "df_train.head()"
      ],
      "metadata": {
        "id": "x2Gt_JYqYlIG"
      },
      "execution_count": null,
      "outputs": []
    },
    {
      "cell_type": "code",
      "source": [
        "assert df_train.shape == (103_644, 23)"
      ],
      "metadata": {
        "id": "C4cILgQIYsjJ"
      },
      "execution_count": null,
      "outputs": []
    },
    {
      "cell_type": "code",
      "source": [
        "df_test = df[df.satisfaction == '-'].drop('satisfaction', axis=1)\n",
        "df_test.head()"
      ],
      "metadata": {
        "id": "fIgaae8eYnVd"
      },
      "execution_count": null,
      "outputs": []
    },
    {
      "cell_type": "code",
      "source": [
        "assert df_test.shape == (25_905, 22)"
      ],
      "metadata": {
        "id": "27GMRFLxYto9"
      },
      "execution_count": null,
      "outputs": []
    },
    {
      "cell_type": "markdown",
      "source": [
        "Разбиваем данные на трейн и валидацию. Не меняйте сид."
      ],
      "metadata": {
        "id": "A2dJPUeHYwJY"
      }
    },
    {
      "cell_type": "code",
      "source": [
        "X_train, X_val, y_train, y_val = train_test_split(df_train.drop('satisfaction', axis=1), df_train.satisfaction, test_size=0.3, random_state=42)"
      ],
      "metadata": {
        "id": "FkJ0UZNXYvZv"
      },
      "execution_count": null,
      "outputs": []
    },
    {
      "cell_type": "code",
      "source": [
        "assert X_train.shape == (72_550, 22)\n",
        "assert X_val.shape == (31_094, 22)"
      ],
      "metadata": {
        "id": "6kswi5PxY11V"
      },
      "execution_count": null,
      "outputs": []
    },
    {
      "cell_type": "markdown",
      "source": [
        "### **Задание 10 (0.25 балла)**\n",
        "\n",
        "- Преобразуйте числовые столбцы в `float`. Проверьте, есть ли в датафрейме пропуски и выбросы (в том числе в категориальных признаках)\n",
        "- Заполните пропуски в данных наиболее часто встречающимся значением.\n",
        "Помните про правильность заполнения.\n",
        "- Выведите основные статистики по числовым и категориальным столбцам таблицы\n",
        "- Сделайте **текстовый** вывод о распределениях значений признаков"
      ],
      "metadata": {
        "id": "rfiWv5w1YUDz"
      }
    },
    {
      "cell_type": "code",
      "source": [
        "# Ваш код здесь"
      ],
      "metadata": {
        "id": "C3qnAA8BYek1"
      },
      "execution_count": null,
      "outputs": []
    },
    {
      "cell_type": "markdown",
      "source": [
        "`Ваш ответ здесь`"
      ],
      "metadata": {
        "id": "d16MrzQyZpv_"
      }
    },
    {
      "cell_type": "markdown",
      "source": [
        "### **Задание 11. (2 балла)**\n",
        "\n",
        "Осуществите предобработку датасета для обучения **полностью самостоятельно**, на основе вашего опыта из прошлых дз и изученной теории. Обязательно **комментируйте** каждое действие.\n",
        "\n",
        "**Примечание:**\n",
        "\n",
        "В данном задании ваша задача в том числе убедить ревьюера в достаточности предобработки."
      ],
      "metadata": {
        "id": "xA5ntCu3ZMRW"
      }
    },
    {
      "cell_type": "code",
      "source": [
        "# Ваш код здесь"
      ],
      "metadata": {
        "id": "KiGKQcRQZnbf"
      },
      "execution_count": null,
      "outputs": []
    },
    {
      "cell_type": "markdown",
      "source": [
        "### **Задание 12. (0.25 балла)**\n",
        "\n",
        "- Обучите самописное дерево и Random Forest с базовыми гиперпараметрами. Выведите `f1-score`."
      ],
      "metadata": {
        "id": "vSZvfKTdZsvx"
      }
    },
    {
      "cell_type": "code",
      "source": [
        "# Ваш код здесь"
      ],
      "metadata": {
        "id": "ckLN7yNUZ4ZG"
      },
      "execution_count": null,
      "outputs": []
    },
    {
      "cell_type": "markdown",
      "source": [
        "### **Задание 13. (0.4 баллa)**\n",
        "\n",
        "- Попробуйте подобрать оптимальные гиперпараметры леса и дерева (если реализовали их в бонусе), используя [RandomizedSearchCV](https://scikit-learn.org/stable/modules/generated/sklearn.model_selection.RandomizedSearchCV.html).\n",
        "- Сравните качество полученных моделей и выберите лучшую. Лучшую модель сохраните в pickle.\n",
        "\n",
        "**Важно:**  \n",
        "\n",
        "Хотя бы один из гиперпараметров перебирайте из распределения (например, `uniform` из `scipy.stats`)"
      ],
      "metadata": {
        "id": "uzNSSq3DaJY6"
      }
    },
    {
      "cell_type": "code",
      "source": [
        "# Ваш код здесь"
      ],
      "metadata": {
        "id": "y_TDDN9taPBc"
      },
      "execution_count": null,
      "outputs": []
    },
    {
      "cell_type": "markdown",
      "source": [
        "### **Задание 14. Анализ моделей (0.1 балла)**\n",
        "\n",
        "- Отобразите`feature_importances_` вашего лучшего случайного леса;\n",
        "- Проанализируйте, какие признаки оказались важными?"
      ],
      "metadata": {
        "id": "hvogFFeLaPqv"
      }
    },
    {
      "cell_type": "code",
      "source": [
        "# Ваш код здесь"
      ],
      "metadata": {
        "id": "kKxLkVeOaf3T"
      },
      "execution_count": null,
      "outputs": []
    },
    {
      "cell_type": "markdown",
      "source": [
        "`Ваш ответ здесь. `"
      ],
      "metadata": {
        "id": "0PXRXSyWahMX"
      }
    },
    {
      "cell_type": "markdown",
      "source": [
        "### **Задание 15. (0.25 балла)**\n",
        "- Интерпретируйте важности признаков с помощью SHAP.\n",
        "- Опишите полученый график\n",
        "\n",
        "**Важно:** Для подсчета используйте 1000 случайных объектов, иначе не дождетесь за приемлемое время\n",
        "\n",
        "**Вам может помочь:** [Статья \"Интерпретация моделей и диагностика сдвига данных: LIME, SHAP и Shapley Flow\"](https://habr.com/ru/company/ods/blog/599573/) из блога ods.ai на Хабре"
      ],
      "metadata": {
        "id": "MCY7rCLwalU6"
      }
    },
    {
      "cell_type": "code",
      "source": [
        "# Ваш код здесь"
      ],
      "metadata": {
        "id": "SJGNRoKRanrx"
      },
      "execution_count": null,
      "outputs": []
    },
    {
      "cell_type": "markdown",
      "source": [
        "`Ваш ответ здесь. `"
      ],
      "metadata": {
        "id": "N2F1JSGEayBu"
      }
    },
    {
      "cell_type": "markdown",
      "source": [
        "### **Задание 16. (0.25 балла)**\n",
        "\n",
        "- Интерпретируйте важности признаков для одного прогноза с помощью LIME;\n",
        "- Опишите полученный график для выбранного наблюдения"
      ],
      "metadata": {
        "id": "uh0d9Vtiaoro"
      }
    },
    {
      "cell_type": "code",
      "source": [
        "# Ваш код здесь"
      ],
      "metadata": {
        "id": "00JsHIiqav-r"
      },
      "execution_count": null,
      "outputs": []
    },
    {
      "cell_type": "markdown",
      "source": [
        "`Ваш ответ здесь. `"
      ],
      "metadata": {
        "id": "gSvRj2Yqau0g"
      }
    },
    {
      "cell_type": "markdown",
      "metadata": {
        "id": "3tcSfKchhY2M"
      },
      "source": [
        "# Обратная связь\n",
        "\n",
        "Расскажите, как вам это домашнее задание. Было ли оно полезным? Научились ли вы чему то? Насколько сложным по 10-балльной шкале оно вам показалось? Сколько времени у вас ушло на его выполнение? Что следовало ещё в него включить? Было ли что-то лишнее?"
      ]
    },
    {
      "cell_type": "code",
      "execution_count": null,
      "metadata": {
        "id": "EyUovjCJhtCa"
      },
      "outputs": [],
      "source": []
    }
  ],
  "metadata": {
    "kernelspec": {
      "display_name": "Python 3",
      "language": "python",
      "name": "python3"
    },
    "language_info": {
      "codemirror_mode": {
        "name": "ipython",
        "version": 3
      },
      "file_extension": ".py",
      "mimetype": "text/x-python",
      "name": "python",
      "nbconvert_exporter": "python",
      "pygments_lexer": "ipython3",
      "version": "3.6.6"
    },
    "toc": {
      "base_numbering": 1,
      "nav_menu": {},
      "number_sections": true,
      "sideBar": true,
      "skip_h1_title": false,
      "title_cell": "Table of Contents",
      "title_sidebar": "Contents",
      "toc_cell": false,
      "toc_position": {},
      "toc_section_display": true,
      "toc_window_display": false
    },
    "colab": {
      "provenance": [],
      "include_colab_link": true
    }
  },
  "nbformat": 4,
  "nbformat_minor": 0
}